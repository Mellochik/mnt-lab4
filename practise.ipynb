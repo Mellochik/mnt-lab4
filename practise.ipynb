{
 "cells": [
  {
   "cell_type": "markdown",
   "id": "6b73d8a3",
   "metadata": {},
   "source": [
    "# Исследование набора данных"
   ]
  },
  {
   "cell_type": "markdown",
   "id": "26b2e3c0",
   "metadata": {},
   "source": [
    "## Загрузка датасета"
   ]
  },
  {
   "cell_type": "code",
   "execution_count": 1,
   "id": "c657b60f",
   "metadata": {},
   "outputs": [
    {
     "name": "stderr",
     "output_type": "stream",
     "text": [
      "c:\\Programs\\Python\\Neural-tech\\Lab3\\.venv\\Lib\\site-packages\\tqdm\\auto.py:21: TqdmWarning: IProgress not found. Please update jupyter and ipywidgets. See https://ipywidgets.readthedocs.io/en/stable/user_install.html\n",
      "  from .autonotebook import tqdm as notebook_tqdm\n"
     ]
    }
   ],
   "source": [
    "import kagglehub"
   ]
  },
  {
   "cell_type": "code",
   "execution_count": 2,
   "id": "97209ac6",
   "metadata": {},
   "outputs": [
    {
     "name": "stdout",
     "output_type": "stream",
     "text": [
      "Downloading from https://www.kaggle.com/api/v1/datasets/download/carlosrunner/pizza-not-pizza?dataset_version_number=1...\n"
     ]
    },
    {
     "name": "stderr",
     "output_type": "stream",
     "text": [
      "100%|██████████| 101M/101M [00:04<00:00, 23.7MB/s] "
     ]
    },
    {
     "name": "stdout",
     "output_type": "stream",
     "text": [
      "Extracting files...\n"
     ]
    },
    {
     "name": "stderr",
     "output_type": "stream",
     "text": [
      "\n"
     ]
    },
    {
     "name": "stdout",
     "output_type": "stream",
     "text": [
      "C:\\Users\\FPostaushkin\\.cache\\kagglehub\\datasets\\carlosrunner\\pizza-not-pizza\\versions\\1\n"
     ]
    }
   ],
   "source": [
    "path = kagglehub.dataset_download(\"carlosrunner/pizza-not-pizza\")\n",
    "print(path)"
   ]
  },
  {
   "cell_type": "markdown",
   "id": "595522e1",
   "metadata": {},
   "source": [
    "## Исследование данных"
   ]
  },
  {
   "cell_type": "code",
   "execution_count": 4,
   "id": "c74b9042",
   "metadata": {},
   "outputs": [],
   "source": [
    "from PIL import Image\n",
    "import os"
   ]
  },
  {
   "cell_type": "code",
   "execution_count": 13,
   "id": "02ef8d71",
   "metadata": {},
   "outputs": [
    {
     "name": "stdout",
     "output_type": "stream",
     "text": [
      "Кол. не пицц - 983, ширина и высота min(288, 287), max(512, 512)\n"
     ]
    }
   ],
   "source": [
    "not_pizza = os.path.join(path, \"pizza_not_pizza\")\n",
    "not_pizza = os.path.join(not_pizza, \"not_pizza\")\n",
    "\n",
    "not_pizza_images = os.listdir(not_pizza)\n",
    "not_pizza_images = [os.path.join(not_pizza, image) for image in not_pizza_images if image.endswith(\".jpg\") or image.endswith(\".png\")]\n",
    "\n",
    "widths = []\n",
    "heights = []\n",
    "for image in not_pizza_images:\n",
    "    try:\n",
    "        with Image.open(image) as img:\n",
    "            width, height = img.size\n",
    "            widths.append(width)\n",
    "            heights.append(height)\n",
    "    except Exception as e:\n",
    "        print(f\"Ошибка при обработке файла {image}: {e}\")\n",
    "        \n",
    "print(f\"Кол. не пицц - {len(not_pizza_images)}, ширина и высота min{(min(widths), min(heights))}, max{(max(widths), max(heights))}\")"
   ]
  },
  {
   "cell_type": "code",
   "execution_count": 14,
   "id": "aaffdced",
   "metadata": {},
   "outputs": [
    {
     "name": "stdout",
     "output_type": "stream",
     "text": [
      "Кол. не пицц - 983, ширина и высота min(287, 287), max(512, 512)\n"
     ]
    }
   ],
   "source": [
    "pizza = os.path.join(path, \"pizza_not_pizza\")\n",
    "pizza = os.path.join(pizza, \"pizza\")\n",
    "\n",
    "pizza_images = os.listdir(pizza)\n",
    "pizza_images = [os.path.join(pizza, image) for image in pizza_images if image.endswith(\".jpg\") or image.endswith(\".png\")]\n",
    "\n",
    "widths = []\n",
    "heights = []\n",
    "for image in pizza_images:\n",
    "    try:\n",
    "        with Image.open(image) as img:\n",
    "            width, height = img.size\n",
    "            widths.append(width)\n",
    "            heights.append(height)\n",
    "    except Exception as e:\n",
    "        print(f\"Ошибка при обработке файла {image}: {e}\")\n",
    "        \n",
    "print(f\"Кол. не пицц - {len(pizza_images)}, ширина и высота min{(min(widths), min(heights))}, max{(max(widths), max(heights))}\")"
   ]
  },
  {
   "cell_type": "markdown",
   "id": "0ebe4610",
   "metadata": {},
   "source": [
    "## Аугментация и расширение датасета"
   ]
  },
  {
   "cell_type": "code",
   "execution_count": 12,
   "id": "0561edf3",
   "metadata": {},
   "outputs": [],
   "source": [
    "import albumentations as A\n",
    "import numpy as np"
   ]
  },
  {
   "cell_type": "code",
   "execution_count": 27,
   "id": "0528baf6",
   "metadata": {},
   "outputs": [],
   "source": [
    "class AlbumentationsAugmentation:\n",
    "    def __init__(self):\n",
    "        self.transform = A.Compose([\n",
    "            A.HorizontalFlip(p=0.5),\n",
    "            A.Rotate(limit=15, p=0.5),\n",
    "            A.RandomBrightnessContrast(p=0.5)\n",
    "        ])\n",
    "        \n",
    "    def __call__(self, img):\n",
    "        img = np.array(img)\n",
    "        augmented = self.transform(image=img)\n",
    "        return augmented['image']\n",
    "    \n",
    "augmenter = AlbumentationsAugmentation()"
   ]
  },
  {
   "cell_type": "code",
   "execution_count": 16,
   "id": "af958fe3",
   "metadata": {},
   "outputs": [],
   "source": [
    "path_to_save = \"./data\""
   ]
  },
  {
   "cell_type": "code",
   "execution_count": 31,
   "id": "cea78c66",
   "metadata": {},
   "outputs": [],
   "source": [
    "for i, image in enumerate(not_pizza_images):\n",
    "    try:\n",
    "        with Image.open(image) as img:\n",
    "            img.save(path_to_save + f\"/not_pizza_{i}_{0}.jpg\")\n",
    "\n",
    "            for j in range(4):\n",
    "                augmented_img = augmenter(img)\n",
    "                augmented_img = Image.fromarray(augmented_img)\n",
    "                augmented_img.save(path_to_save + f\"/not_pizza_{i}_{j + 1}.jpg\")\n",
    "\n",
    "    except Exception as e:\n",
    "        print(f\"Ошибка при обработке файла {image}: {e}\")"
   ]
  },
  {
   "cell_type": "code",
   "execution_count": 32,
   "id": "56ddaf7b",
   "metadata": {},
   "outputs": [],
   "source": [
    "for i, image in enumerate(pizza_images):\n",
    "    try:\n",
    "        with Image.open(image) as img:\n",
    "            img.save(path_to_save + f\"/pizza_{i}.jpg\")\n",
    "\n",
    "            for j in range(4):\n",
    "                augmented_img = augmenter(img)\n",
    "                augmented_img = Image.fromarray(augmented_img)\n",
    "                augmented_img.save(path_to_save + f\"/pizza_{i}_{j + 1}.jpg\")\n",
    "    except Exception as e:\n",
    "        print(f\"Ошибка при обработке файла {image}: {e}\")"
   ]
  },
  {
   "cell_type": "code",
   "execution_count": 5,
   "id": "8dae7b1d",
   "metadata": {},
   "outputs": [
    {
     "name": "stdout",
     "output_type": "stream",
     "text": [
      "PizzaCNN(\n",
      "  (model): Sequential(\n",
      "    (0): Conv2d(3, 32, kernel_size=(3, 3), stride=(1, 1), padding=(1, 1))\n",
      "    (1): ReLU()\n",
      "    (2): MaxPool2d(kernel_size=2, stride=2, padding=0, dilation=1, ceil_mode=False)\n",
      "    (3): Conv2d(32, 64, kernel_size=(3, 3), stride=(1, 1), padding=(1, 1))\n",
      "    (4): ReLU()\n",
      "    (5): MaxPool2d(kernel_size=2, stride=2, padding=0, dilation=1, ceil_mode=False)\n",
      "    (6): Flatten(start_dim=1, end_dim=-1)\n",
      "    (7): Linear(in_features=16384, out_features=64, bias=True)\n",
      "    (8): ReLU()\n",
      "    (9): Linear(in_features=64, out_features=1, bias=True)\n",
      "  )\n",
      ")\n"
     ]
    }
   ],
   "source": [
    "from model import PizzaCNN\n",
    "\n",
    "model = PizzaCNN(version=1)\n",
    "print(model)"
   ]
  }
 ],
 "metadata": {
  "kernelspec": {
   "display_name": ".venv",
   "language": "python",
   "name": "python3"
  },
  "language_info": {
   "codemirror_mode": {
    "name": "ipython",
    "version": 3
   },
   "file_extension": ".py",
   "mimetype": "text/x-python",
   "name": "python",
   "nbconvert_exporter": "python",
   "pygments_lexer": "ipython3",
   "version": "3.13.3"
  }
 },
 "nbformat": 4,
 "nbformat_minor": 5
}
